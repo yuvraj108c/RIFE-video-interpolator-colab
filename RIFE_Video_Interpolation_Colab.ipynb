{
  "cells": [
    {
      "cell_type": "markdown",
      "metadata": {
        "id": "view-in-github",
        "colab_type": "text"
      },
      "source": [
        "<a href=\"https://colab.research.google.com/github/yuvraj108c/RIFE-video-interpolator-colab/blob/main/RIFE_Video_Interpolation_Colab.ipynb\" target=\"_parent\"><img src=\"https://colab.research.google.com/assets/colab-badge.svg\" alt=\"Open In Colab\"/></a>"
      ]
    },
    {
      "cell_type": "markdown",
      "source": [
        "# RIFE Video Interpolation Colab\n",
        "\n",
        "Adapted from: [ECCV2022-RIFE](https://github.com/megvii-research/ECCV2022-RIFE)\n",
        "\n",
        "Made with ❤️ by: [yuvraj108c](https://github.com/yuvraj108c)"
      ],
      "metadata": {
        "id": "3BZ-twAdK_Ix"
      }
    },
    {
      "cell_type": "markdown",
      "source": [
        "# 1. Setup (~ 1 minute)"
      ],
      "metadata": {
        "id": "tym-oeGdFhvh"
      }
    },
    {
      "cell_type": "code",
      "execution_count": null,
      "metadata": {
        "id": "FypCcZkNNt2p"
      },
      "outputs": [],
      "source": [
        "!git clone https://github.com/hzwer/arXiv2020-RIFE\n",
        "\n",
        "!mkdir /content/arXiv2020-RIFE/train_log\n",
        "%cd /content/arXiv2020-RIFE/train_log\n",
        "!gdown 1APIzVeI-4ZZCEuIRE1m6WYfSCaOsi_7_\n",
        "!7z e RIFE_trained_model_v3.6.zip\n",
        "\n",
        "%cd /content/arXiv2020-RIFE/\n",
        "!gdown 1i3xlKb7ax7Y70khcTcuePi6E7crO_dFc\n",
        "!pip install scikit-video"
      ]
    },
    {
      "cell_type": "markdown",
      "source": [
        "# 2. Interpolate video\n",
        "\n",
        "- Upload your video & set the video path\n",
        "- Adjust the `exp` slider, which controls the FPS of the output video\n",
        "- The interpolated video will be saved in the same directory as original video"
      ],
      "metadata": {
        "id": "FPWSa3soF1IE"
      }
    },
    {
      "cell_type": "code",
      "source": [
        "video_path = \"/content/arXiv2020-RIFE/demo.mp4\" #@param {type:\"string\"}\n",
        "exp = 2 # @param {type:\"slider\", min:1, max:10, step:1}\n",
        "\n",
        "!python3 inference_video.py --exp={exp} --video={video_path}"
      ],
      "metadata": {
        "cellView": "form",
        "id": "bno5be6SDtxg"
      },
      "execution_count": null,
      "outputs": []
    }
  ],
  "metadata": {
    "accelerator": "GPU",
    "colab": {
      "provenance": [],
      "include_colab_link": true
    },
    "kernelspec": {
      "display_name": "Python 3",
      "name": "python3"
    }
  },
  "nbformat": 4,
  "nbformat_minor": 0
}